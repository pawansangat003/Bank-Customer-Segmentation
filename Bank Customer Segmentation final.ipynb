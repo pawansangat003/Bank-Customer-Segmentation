{
 "cells": [
  {
   "cell_type": "code",
   "execution_count": null,
   "metadata": {
    "colab": {
     "base_uri": "https://localhost:8080/",
     "height": 72
    },
    "colab_type": "code",
    "id": "S0Cx3743urFY",
    "outputId": "47cbe3c1-a14d-46a8-ee5d-47d55ad5ba15"
   },
   "outputs": [],
   "source": [
    "import pandas as pd\n",
    "import numpy as np\n",
    "import seaborn as sns\n",
    "import matplotlib.pyplot as plt\n",
    "from sklearn.preprocessing import StandardScaler, normalize\n",
    "from sklearn.cluster import KMeans\n",
    "from sklearn.decomposition import PCA\n",
    "from jupyterthemes import jtplot\n",
    "jtplot.style(theme='monokai', context='notebook', ticks=True, grid=False) \n",
    "# setting the style of the notebook to be monokai theme  \n",
    "# this line of code is important to ensure that we are able to see the x and y axes clearly\n",
    "# If you don't run this code line, you will notice that the xlabel and ylabel on any plot is black on black and it will be hard to see them. \n"
   ]
  },
  {
   "cell_type": "code",
   "execution_count": null,
   "metadata": {
    "colab": {},
    "colab_type": "code",
    "id": "tjIiJdM4u1IE"
   },
   "outputs": [],
   "source": [
    "# You have to include the full link to the csv file containing your dataset\n",
    "creditcard_df = pd.read_csv('Marketing_data.csv')\n",
    "\n",
    "# CUSTID: Identification of Credit Card holder \n",
    "# BALANCE: Balance amount left in customer's account to make purchases\n",
    "# BALANCE_FREQUENCY: How frequently the Balance is updated, score between 0 and 1 (1 = frequently updated, 0 = not frequently updated)\n",
    "# PURCHASES: Amount of purchases made from account\n",
    "# ONEOFFPURCHASES: Maximum purchase amount done in one-go\n",
    "# INSTALLMENTS_PURCHASES: Amount of purchase done in installment\n",
    "# CASH_ADVANCE: Cash in advance given by the user\n",
    "# PURCHASES_FREQUENCY: How frequently the Purchases are being made, score between 0 and 1 (1 = frequently purchased, 0 = not frequently purchased)\n",
    "# ONEOFF_PURCHASES_FREQUENCY: How frequently Purchases are happening in one-go (1 = frequently purchased, 0 = not frequently purchased)\n",
    "# PURCHASES_INSTALLMENTS_FREQUENCY: How frequently purchases in installments are being done (1 = frequently done, 0 = not frequently done)\n",
    "# CASH_ADVANCE_FREQUENCY: How frequently the cash in advance being paid\n",
    "# CASH_ADVANCE_TRX: Number of Transactions made with \"Cash in Advance\"\n",
    "# PURCHASES_TRX: Number of purchase transactions made\n",
    "# CREDIT_LIMIT: Limit of Credit Card for user\n",
    "# PAYMENTS: Amount of Payment done by user\n",
    "# MINIMUM_PAYMENTS: Minimum amount of payments made by user  \n",
    "# PRC_FULL_PAYMENT: Percent of full payment paid by user\n",
    "# TENURE: Tenure of credit card service for user"
   ]
  },
  {
   "cell_type": "code",
   "execution_count": null,
   "metadata": {
    "colab": {},
    "colab_type": "code",
    "id": "q4_wPDKCu5Uc",
    "scrolled": true
   },
   "outputs": [],
   "source": [
    "creditcard_df"
   ]
  },
  {
   "cell_type": "code",
   "execution_count": null,
   "metadata": {
    "colab": {},
    "colab_type": "code",
    "id": "hMq3-KWOx0e1"
   },
   "outputs": [],
   "source": [
    "# Let's apply info and get additional insights on our dataframe\n",
    "# 18 features with 8950 points  "
   ]
  },
  {
   "cell_type": "code",
   "execution_count": null,
   "metadata": {
    "colab": {},
    "colab_type": "code",
    "id": "ICj3NLbqqmve"
   },
   "outputs": [],
   "source": [
    "# Let's see if we have any missing data, luckily we don't have many!\n",
    "sns.heatmap(creditcard_df.isnull(), yticklabels = False, cbar = False, cmap=\"Blues\")\n"
   ]
  },
  {
   "cell_type": "code",
   "execution_count": null,
   "metadata": {
    "colab": {},
    "colab_type": "code",
    "id": "70XopgWwMmHG"
   },
   "outputs": [],
   "source": [
    "creditcard_df.isnull().sum()"
   ]
  },
  {
   "cell_type": "code",
   "execution_count": null,
   "metadata": {
    "colab": {},
    "colab_type": "code",
    "id": "wboxbIPwT7Wi"
   },
   "outputs": [],
   "source": [
    "# Fill up the missing elements with mean of the 'MINIMUM_PAYMENT' \n",
    "creditcard_df.loc[(creditcard_df['MINIMUM_PAYMENTS'].isnull() == True), 'MINIMUM_PAYMENTS'] = creditcard_df['MINIMUM_PAYMENTS'].mean()\n"
   ]
  },
  {
   "cell_type": "code",
   "execution_count": null,
   "metadata": {
    "colab": {},
    "colab_type": "code",
    "id": "zFIXGFrucdCl"
   },
   "outputs": [],
   "source": [
    "# Let's see if we have duplicated entries in the data\n",
    "creditcard_df.duplicated().sum()"
   ]
  },
  {
   "cell_type": "code",
   "execution_count": null,
   "metadata": {
    "colab": {},
    "colab_type": "code",
    "id": "QIw-jGI9NOCg"
   },
   "outputs": [],
   "source": [
    "n = len(creditcard_df.columns)\n",
    "n"
   ]
  },
  {
   "cell_type": "code",
   "execution_count": null,
   "metadata": {
    "colab": {},
    "colab_type": "code",
    "id": "fIOb3930ONKS"
   },
   "outputs": [],
   "source": [
    "creditcard_df.columns"
   ]
  },
  {
   "cell_type": "code",
   "execution_count": null,
   "metadata": {
    "colab": {},
    "colab_type": "code",
    "id": "rFmjikf6ONgu"
   },
   "outputs": [],
   "source": [
    "# distplot combines the matplotlib.hist function with seaborn kdeplot()\n",
    "# KDE Plot represents the Kernel Density Estimate\n",
    "# KDE is used for visualizing the Probability Density of a continuous variable. \n",
    "# KDE demonstrates the probability density at different values in a continuous variable. \n",
    "\n",
    "# Mean of balance is $1500\n",
    "# 'Balance_Frequency' for most customers is updated frequently ~1\n",
    "# For 'PURCHASES_FREQUENCY', there are two distinct group of customers\n",
    "# For 'ONEOFF_PURCHASES_FREQUENCY' and 'PURCHASES_INSTALLMENT_FREQUENCY' most users don't do one off puchases or installment purchases frequently \n",
    "# Very small number of customers pay their balance in full 'PRC_FULL_PAYMENT'~0\n",
    "# Credit limit average is around $4500\n",
    "# Most customers are ~11 years tenure\n",
    "\n",
    "plt.figure(figsize=(10,50))\n",
    "for i in range(len(creditcard_df.columns)):\n",
    "  plt.subplot(17, 1, i+1)\n",
    "  sns.distplot(creditcard_df[creditcard_df.columns[i]], kde_kws={\"color\": \"b\", \"lw\": 3, \"label\": \"KDE\"}, hist_kws={\"color\": \"g\"})\n",
    "  plt.title(creditcard_df.columns[i])\n",
    "\n",
    "plt.tight_layout()"
   ]
  },
  {
   "cell_type": "code",
   "execution_count": null,
   "metadata": {
    "colab": {},
    "colab_type": "code",
    "id": "axr926Btjyux"
   },
   "outputs": [],
   "source": [
    "# Let's scale the data first\n",
    "scaler = StandardScaler()\n",
    "creditcard_df_scaled = scaler.fit_transform(creditcard_df)"
   ]
  },
  {
   "cell_type": "code",
   "execution_count": null,
   "metadata": {
    "colab": {},
    "colab_type": "code",
    "id": "9CJeasg4kHyP"
   },
   "outputs": [],
   "source": [
    "creditcard_df_scaled.shape"
   ]
  },
  {
   "cell_type": "code",
   "execution_count": null,
   "metadata": {
    "colab": {},
    "colab_type": "code",
    "id": "FK5ggiVPsJE9"
   },
   "outputs": [],
   "source": [
    "creditcard_df_scaled"
   ]
  },
  {
   "cell_type": "code",
   "execution_count": null,
   "metadata": {
    "colab": {},
    "colab_type": "code",
    "id": "1_nb-D8H3cK-"
   },
   "outputs": [],
   "source": [
    "# Index(['BALANCE', 'BALANCE_FREQUENCY', 'PURCHASES', 'ONEOFF_PURCHASES',\n",
    "#       'INSTALLMENTS_PURCHASES', 'CASH_ADVANCE', 'PURCHASES_FREQUENCY',\n",
    "#       'ONEOFF_PURCHASES_FREQUENCY', 'PURCHASES_INSTALLMENTS_FREQUENCY',\n",
    "#       'CASH_ADVANCE_FREQUENCY', 'CASH_ADVANCE_TRX', 'PURCHASES_TRX',\n",
    "#       'CREDIT_LIMIT', 'PAYMENTS', 'MINIMUM_PAYMENTS', 'PRC_FULL_PAYMENT',\n",
    "#       'TENURE'], dtype='object')\n",
    "\n",
    "\n",
    "\n",
    "# From this we can observe that, 4th cluster seems to be forming the elbow of the curve. \n",
    "# However, the values does not reduce linearly until 8th cluster. \n",
    "# Let's choose the number of clusters to be 7 or 8."
   ]
  },
  {
   "cell_type": "code",
   "execution_count": null,
   "metadata": {
    "colab": {},
    "colab_type": "code",
    "id": "qwzY8rj0uV-a"
   },
   "outputs": [],
   "source": [
    "kmeans = KMeans(7)\n",
    "kmeans.fit(creditcard_df_scaled)\n",
    "labels = kmeans.labels_"
   ]
  },
  {
   "cell_type": "code",
   "execution_count": null,
   "metadata": {
    "colab": {},
    "colab_type": "code",
    "id": "dShNNvg09zH3"
   },
   "outputs": [],
   "source": [
    "kmeans.cluster_centers_.shape"
   ]
  },
  {
   "cell_type": "code",
   "execution_count": null,
   "metadata": {
    "colab": {},
    "colab_type": "code",
    "id": "VEiPOUJv9iFK"
   },
   "outputs": [],
   "source": [
    "cluster_centers = pd.DataFrame(data = kmeans.cluster_centers_, columns = [creditcard_df.columns])\n",
    "cluster_centers"
   ]
  },
  {
   "cell_type": "code",
   "execution_count": null,
   "metadata": {
    "colab": {},
    "colab_type": "code",
    "id": "9ogiZbsGBBl8"
   },
   "outputs": [],
   "source": [
    "# In order to understand what these numbers mean, let's perform inverse transformation\n",
    "cluster_centers = scaler.inverse_transform(cluster_centers)\n",
    "cluster_centers = pd.DataFrame(data = cluster_centers, columns = [creditcard_df.columns])\n",
    "cluster_centers\n",
    "\n",
    "# First Customers cluster (Transactors): Those are customers who pay least amount of intrerest charges and careful with their money, Cluster with lowest balance ($104) and cash advance ($303), Percentage of full payment = 23%\n",
    "# Second customers cluster (revolvers) who use credit card as a loan (most lucrative sector): highest balance ($5000) and cash advance (~$5000), low purchase frequency, high cash advance frequency (0.5), high cash advance transactions (16) and low percentage of full payment (3%)\n",
    "# Third customer cluster (VIP/Prime): high credit limit $16K and highest percentage of full payment, target for increase credit limit and increase spending habits\n",
    "# Fourth customer cluster (low tenure): these are customers with low tenure (7 years), low balance \n"
   ]
  },
  {
   "cell_type": "code",
   "execution_count": null,
   "metadata": {
    "colab": {},
    "colab_type": "code",
    "id": "kCuHRqBIusm7"
   },
   "outputs": [],
   "source": [
    "labels.shape # Labels associated to each data point"
   ]
  },
  {
   "cell_type": "code",
   "execution_count": null,
   "metadata": {
    "colab": {},
    "colab_type": "code",
    "id": "Ywcls4cvu2lh"
   },
   "outputs": [],
   "source": [
    "labels.max()"
   ]
  },
  {
   "cell_type": "code",
   "execution_count": null,
   "metadata": {
    "colab": {},
    "colab_type": "code",
    "id": "NPQIMB7Fu9f3"
   },
   "outputs": [],
   "source": [
    "labels.min()"
   ]
  },
  {
   "cell_type": "code",
   "execution_count": null,
   "metadata": {
    "colab": {},
    "colab_type": "code",
    "id": "kgLSvv-6vHSs"
   },
   "outputs": [],
   "source": [
    "y_kmeans = kmeans.fit_predict(creditcard_df_scaled)\n",
    "y_kmeans\n"
   ]
  },
  {
   "cell_type": "code",
   "execution_count": null,
   "metadata": {
    "colab": {},
    "colab_type": "code",
    "id": "OfMaZqUOqdJB"
   },
   "outputs": [],
   "source": [
    "# concatenate the clusters labels to our original dataframe\n",
    "creditcard_df_cluster = pd.concat([creditcard_df, pd.DataFrame({'cluster':labels})], axis = 1)\n",
    "creditcard_df_cluster.head()"
   ]
  },
  {
   "cell_type": "code",
   "execution_count": null,
   "metadata": {
    "colab": {},
    "colab_type": "code",
    "id": "TYEhR6rvqwda"
   },
   "outputs": [],
   "source": [
    "# Plot the histogram of various clusters\n",
    "for i in creditcard_df.columns:\n",
    "  plt.figure(figsize = (35, 5))\n",
    "  for j in range(7):\n",
    "    plt.subplot(1,7,j+1)\n",
    "    cluster = creditcard_df_cluster[creditcard_df_cluster['cluster'] == j]\n",
    "    cluster[i].hist(bins = 20)\n",
    "    plt.title('{}    \\nCluster {} '.format(i,j))\n",
    "  \n",
    "  plt.show()\n",
    "\n"
   ]
  },
  {
   "cell_type": "code",
   "execution_count": null,
   "metadata": {
    "colab": {},
    "colab_type": "code",
    "id": "ad3UQtPU0eHK"
   },
   "outputs": [],
   "source": [
    "# Create a dataframe with the two components\n",
    "pca_df = pd.DataFrame(data = principal_comp, columns =['pca1','pca2'])\n",
    "pca_df.head()"
   ]
  },
  {
   "cell_type": "code",
   "execution_count": null,
   "metadata": {
    "colab": {},
    "colab_type": "code",
    "id": "q7gsGkEZvkYd"
   },
   "outputs": [],
   "source": [
    "# Concatenate the clusters labels to the dataframe\n",
    "pca_df = pd.concat([pca_df,pd.DataFrame({'cluster':labels})], axis = 1)\n",
    "pca_df.head()"
   ]
  },
  {
   "cell_type": "code",
   "execution_count": null,
   "metadata": {
    "colab": {},
    "colab_type": "code",
    "id": "4KYt5SUrvneq"
   },
   "outputs": [],
   "source": [
    "plt.figure(figsize=(10,10))\n",
    "ax = sns.scatterplot(x=\"pca1\", y=\"pca2\", hue = \"cluster\", data = pca_df, palette =['red','green','blue','pink','yellow','gray','purple', 'black'])\n",
    "plt.show()"
   ]
  },
  {
   "cell_type": "code",
   "execution_count": null,
   "metadata": {},
   "outputs": [],
   "source": [
    "# Average, minimum and maximum balance amounts\n",
    "print('The average, minimum and maximum balance amount are:', creditcard_df['BALANCE'].mean(), creditcard_df['BALANCE'].min(), creditcard_df['BALANCE'].max())"
   ]
  },
  {
   "cell_type": "code",
   "execution_count": null,
   "metadata": {},
   "outputs": [],
   "source": [
    "# Let's see who made one off purchase of $40761!\n",
    "creditcard_df[creditcard_df['ONEOFF_PURCHASES'] == 40761.25]"
   ]
  },
  {
   "cell_type": "code",
   "execution_count": null,
   "metadata": {},
   "outputs": [],
   "source": [
    "creditcard_df['CASH_ADVANCE'].max()"
   ]
  },
  {
   "cell_type": "code",
   "execution_count": null,
   "metadata": {},
   "outputs": [],
   "source": [
    "# Let's see who made cash advance of $47137!\n",
    "# This customer made 123 cash advance transactions!!\n",
    "# Never paid credit card in full\n",
    "\n",
    "creditcard_df[creditcard_df['CASH_ADVANCE'] == 47137.211760000006]\n"
   ]
  },
  {
   "cell_type": "code",
   "execution_count": null,
   "metadata": {},
   "outputs": [],
   "source": [
    "# Fill up the missing elements with mean of the 'CREDIT_LIMIT' \n",
    "creditcard_df.loc[(creditcard_df['CREDIT_LIMIT'].isnull() == True), 'CREDIT_LIMIT'] = creditcard_df['CREDIT_LIMIT'].mean()\n",
    "sns.heatmap(creditcard_df.isnull(), yticklabels = False, cbar = False, cmap=\"Blues\")"
   ]
  },
  {
   "cell_type": "code",
   "execution_count": null,
   "metadata": {},
   "outputs": [],
   "source": [
    "# Let's drop Customer ID since it has no meaning here \n",
    "creditcard_df.drop(\"CUST_ID\", axis = 1, inplace= True)\n",
    "creditcard_df.head()"
   ]
  },
  {
   "cell_type": "code",
   "execution_count": null,
   "metadata": {},
   "outputs": [],
   "source": [
    "correlations = creditcard_df.corr()\n",
    "f, ax = plt.subplots(figsize = (20, 20))\n",
    "sns.heatmap(correlations, annot = True)\n",
    "\n",
    "# 'PURCHASES' have high correlation between one-off purchases, 'installment purchases, purchase transactions, credit limit and payments. \n",
    "# Strong Positive Correlation between 'PURCHASES_FREQUENCY' and 'PURCHASES_INSTALLMENT_FREQUENCY'"
   ]
  },
  {
   "cell_type": "code",
   "execution_count": null,
   "metadata": {},
   "outputs": [],
   "source": [
    "# code modification\n",
    "kmeans.fit(creditcard_df_scaled[:,:7])\n",
    "# optimal number of clusters would be = 5"
   ]
  }
 ],
 "metadata": {
  "colab": {
   "collapsed_sections": [],
   "name": "Marketing Department Solution",
   "provenance": []
  },
  "kernelspec": {
   "display_name": "Python 3",
   "language": "python",
   "name": "python3"
  },
  "language_info": {
   "codemirror_mode": {
    "name": "ipython",
    "version": 3
   },
   "file_extension": ".py",
   "mimetype": "text/x-python",
   "name": "python",
   "nbconvert_exporter": "python",
   "pygments_lexer": "ipython3",
   "version": "3.7.3"
  }
 },
 "nbformat": 4,
 "nbformat_minor": 1
}
